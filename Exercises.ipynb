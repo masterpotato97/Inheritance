{
 "cells": [
  {
   "cell_type": "markdown",
   "metadata": {},
   "source": [
    "#### Exercise 1 - Class Inheritance"
   ]
  },
  {
   "cell_type": "markdown",
   "metadata": {},
   "source": [
    "Create an Employee class that sets an employee's first name, last name, job title, salary, and email. The Employee class should have a class attribute for the raise amount set to 5% (1.05). Create a method that will apply the raise to an employee's salary."
   ]
  },
  {
   "cell_type": "code",
   "execution_count": null,
   "metadata": {},
   "outputs": [
    {
     "name": "stdout",
     "output_type": "stream",
     "text": [
      "Dear Hannah Stern,\n",
      "Thank you for your interest in our product.\n",
      "Please let me know if you have any questions. My email is hh@gmail.com or my phone number is 963639369.\n",
      "Thanks,\n",
      "Hank hill\n",
      "Dear Mike O'Neil,\n",
      "Thank you for your interest in our product.\n",
      "Please let me know if you have any questions. My email is hh@gmail.com or my phone number is 963639369.\n",
      "Thanks,\n",
      "Hank hill\n",
      "52500.0\n",
      "Frances Yallum is writing code\n",
      "105000.0\n"
     ]
    }
   ],
   "source": [
    "class Employee:\n",
    "    raise_amount = 1.05\n",
    "    def __init__(self,first_name, last_name,job_title,salary, email):\n",
    "        \n",
    "        self.first_name = first_name\n",
    "        self.last_name = last_name\n",
    "        self.job_title = job_title\n",
    "        self.salary = salary\n",
    "        self.email = email\n",
    "    def apply_raise(self):\n",
    "        self.salary *= self.raise_amount\n",
    "class Sales(Employee):\n",
    "    def __init__(self, first_name, last_name,job_title,salary, email, phone):\n",
    "        super().__init__( first_name, last_name,job_title,salary, email)\n",
    "        self.phone = phone\n",
    "    def need_help(self, cust_name):\n",
    "        print(f\"Dear {cust_name},\")      \n",
    "        print(\"Thank you for your interest in our product.\")\n",
    "        print(f\"Please let me know if you have any questions. My email is {self.email} or my phone number is {self.phone}.\")\n",
    "        print(\"Thanks,\")\n",
    "        print(f\"{self.first_name} {self.last_name}\")\n",
    "               \n",
    "class Development(Employee):\n",
    "    def writing(self):\n",
    "         print(f\"{self.first_name} {self.last_name} is writing code\")\n",
    "\n",
    "\n",
    "sales_person = Sales(\"Hank\", \"hill\",\"Sales\",50000,\"hh@gmail.com\",963639369)\n",
    "\n",
    "sales_person.need_help(\"Hannah Stern\")\n",
    "sales_person.need_help(\"Mike O'Neil\")\n",
    "sales_person.apply_raise()\n",
    "print(sales_person.salary)\n",
    "\n",
    "dev_person = Development(\"Frances\", \"Yallum\",\"IT\",100000,\"fyi@gmail.com\")\n",
    "dev_person.writing()\n",
    "dev_person.apply_raise()\n",
    "print(dev_person.salary)"
   ]
  },
  {
   "cell_type": "markdown",
   "metadata": {},
   "source": [
    "Create two more classes that inherit from the Employee class. One for Sales and one for Development. Both of these classes will have the same attributes as the Employee.<br>\n",
    "- For the Sales employees, add a phone number attribute on instantiation using the super method. \n",
    "- Create a method on the Sales class that will Send a Follow Up Email. It should take in a customer name and \"send\" aka print a formatted email \"Dear *customer*, Thank you for your interest in our product. Please let me know if you have any questions. My email is *email* or my phone number is *phone number*. Thanks, *full name*\"\n",
    "- Create a method on the Development class called code that will print out \"*full name* is writing code\"."
   ]
  },
  {
   "cell_type": "code",
   "execution_count": null,
   "metadata": {},
   "outputs": [],
   "source": []
  },
  {
   "cell_type": "markdown",
   "metadata": {},
   "source": [
    "- Create an instance of a Sales Employee with a salary of $50,000.\n",
    "- Send follow up emails to \"Mike O'Neil\" and \"Hannah Stern\"\n",
    "- Give the employee a raise and print the salary"
   ]
  },
  {
   "cell_type": "code",
   "execution_count": null,
   "metadata": {},
   "outputs": [],
   "source": []
  },
  {
   "cell_type": "markdown",
   "metadata": {},
   "source": [
    "- Create an instance of a Development Employee with a salary of $100,000\n",
    "- Write some code with this employee\n",
    "- Give the employee a raise and print the salary"
   ]
  },
  {
   "cell_type": "code",
   "execution_count": null,
   "metadata": {},
   "outputs": [],
   "source": []
  },
  {
   "cell_type": "markdown",
   "metadata": {},
   "source": [
    "#### Exercise 2 - Importing Modules"
   ]
  },
  {
   "cell_type": "markdown",
   "metadata": {},
   "source": [
    "In VS Code, create a module titled `geometry` and add two functions in there. One that will calculate the area of a circle given a radius. The second will find the hypotenuse of a right angle given the two sides. Import the module or the functions from the module and use it to find the answers to the below questions"
   ]
  },
  {
   "cell_type": "markdown",
   "metadata": {},
   "source": [
    "What is the area of a circle with a radius of 7cm?"
   ]
  },
  {
   "cell_type": "code",
   "execution_count": null,
   "metadata": {},
   "outputs": [],
   "source": [
    "import math\n",
    "\n",
    "area = math.pi * 7^2\n"
   ]
  },
  {
   "cell_type": "markdown",
   "metadata": {},
   "source": [
    "What is the hypotenuse of a right angle with sides of 3in and 4in?"
   ]
  },
  {
   "cell_type": "code",
   "execution_count": null,
   "metadata": {},
   "outputs": [],
   "source": [
    "\n",
    "s1 = 3\n",
    "s2 = 4\n",
    "\n",
    "area2 = math.sqrt(s1*s1+s2*s2)\n",
    "\n",
    "print(area2)"
   ]
  }
 ],
 "metadata": {
  "kernelspec": {
   "display_name": "Python 3 (ipykernel)",
   "language": "python",
   "name": "python3"
  },
  "language_info": {
   "codemirror_mode": {
    "name": "ipython",
    "version": 3
   },
   "file_extension": ".py",
   "mimetype": "text/x-python",
   "name": "python",
   "nbconvert_exporter": "python",
   "pygments_lexer": "ipython3",
   "version": "3.10.9"
  }
 },
 "nbformat": 4,
 "nbformat_minor": 4
}
